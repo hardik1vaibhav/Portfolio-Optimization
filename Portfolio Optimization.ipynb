{
 "cells": [
  {
   "cell_type": "markdown",
   "id": "ff9e5dbc",
   "metadata": {},
   "source": [
    "# Portfolio Optimization "
   ]
  },
  {
   "cell_type": "markdown",
   "id": "a2b80035",
   "metadata": {},
   "source": [
    "## Import Required Libraries"
   ]
  },
  {
   "cell_type": "code",
   "execution_count": 4,
   "id": "625b38dc",
   "metadata": {},
   "outputs": [
    {
     "name": "stdout",
     "output_type": "stream",
     "text": [
      "Requirement already satisfied: yfinance in c:\\users\\hardik vaibhav\\anaconda3\\lib\\site-packages (0.2.32)\n",
      "Requirement already satisfied: pandas>=1.3.0 in c:\\users\\hardik vaibhav\\anaconda3\\lib\\site-packages (from yfinance) (1.4.4)\n",
      "Requirement already satisfied: lxml>=4.9.1 in c:\\users\\hardik vaibhav\\anaconda3\\lib\\site-packages (from yfinance) (4.9.1)\n",
      "Requirement already satisfied: peewee>=3.16.2 in c:\\users\\hardik vaibhav\\anaconda3\\lib\\site-packages (from yfinance) (3.17.0)\n",
      "Requirement already satisfied: multitasking>=0.0.7 in c:\\users\\hardik vaibhav\\anaconda3\\lib\\site-packages (from yfinance) (0.0.11)\n",
      "Requirement already satisfied: frozendict>=2.3.4 in c:\\users\\hardik vaibhav\\anaconda3\\lib\\site-packages (from yfinance) (2.3.9)\n",
      "Requirement already satisfied: beautifulsoup4>=4.11.1 in c:\\users\\hardik vaibhav\\anaconda3\\lib\\site-packages (from yfinance) (4.11.1)\n",
      "Requirement already satisfied: numpy>=1.16.5 in c:\\users\\hardik vaibhav\\anaconda3\\lib\\site-packages (from yfinance) (1.21.5)\n",
      "Requirement already satisfied: html5lib>=1.1 in c:\\users\\hardik vaibhav\\anaconda3\\lib\\site-packages (from yfinance) (1.1)\n",
      "Requirement already satisfied: appdirs>=1.4.4 in c:\\users\\hardik vaibhav\\anaconda3\\lib\\site-packages (from yfinance) (1.4.4)\n",
      "Requirement already satisfied: pytz>=2022.5 in c:\\users\\hardik vaibhav\\anaconda3\\lib\\site-packages (from yfinance) (2023.3.post1)\n",
      "Requirement already satisfied: requests>=2.31 in c:\\users\\hardik vaibhav\\anaconda3\\lib\\site-packages (from yfinance) (2.31.0)\n",
      "Requirement already satisfied: soupsieve>1.2 in c:\\users\\hardik vaibhav\\anaconda3\\lib\\site-packages (from beautifulsoup4>=4.11.1->yfinance) (2.3.1)\n",
      "Requirement already satisfied: webencodings in c:\\users\\hardik vaibhav\\anaconda3\\lib\\site-packages (from html5lib>=1.1->yfinance) (0.5.1)\n",
      "Requirement already satisfied: six>=1.9 in c:\\users\\hardik vaibhav\\anaconda3\\lib\\site-packages (from html5lib>=1.1->yfinance) (1.16.0)\n",
      "Requirement already satisfied: python-dateutil>=2.8.1 in c:\\users\\hardik vaibhav\\anaconda3\\lib\\site-packages (from pandas>=1.3.0->yfinance) (2.8.2)\n",
      "Requirement already satisfied: charset-normalizer<4,>=2 in c:\\users\\hardik vaibhav\\anaconda3\\lib\\site-packages (from requests>=2.31->yfinance) (2.0.4)\n",
      "Requirement already satisfied: certifi>=2017.4.17 in c:\\users\\hardik vaibhav\\anaconda3\\lib\\site-packages (from requests>=2.31->yfinance) (2022.9.14)\n",
      "Requirement already satisfied: urllib3<3,>=1.21.1 in c:\\users\\hardik vaibhav\\anaconda3\\lib\\site-packages (from requests>=2.31->yfinance) (1.26.11)\n",
      "Requirement already satisfied: idna<4,>=2.5 in c:\\users\\hardik vaibhav\\anaconda3\\lib\\site-packages (from requests>=2.31->yfinance) (3.3)\n",
      "Note: you may need to restart the kernel to use updated packages.\n"
     ]
    }
   ],
   "source": [
    "pip install yfinance"
   ]
  },
  {
   "cell_type": "code",
   "execution_count": 5,
   "id": "d2c4c26f",
   "metadata": {},
   "outputs": [
    {
     "name": "stdout",
     "output_type": "stream",
     "text": [
      "Requirement already satisfied: datetime in c:\\users\\hardik vaibhav\\anaconda3\\lib\\site-packages (5.3)\n",
      "Requirement already satisfied: zope.interface in c:\\users\\hardik vaibhav\\anaconda3\\lib\\site-packages (from datetime) (5.4.0)\n",
      "Requirement already satisfied: pytz in c:\\users\\hardik vaibhav\\anaconda3\\lib\\site-packages (from datetime) (2023.3.post1)\n",
      "Requirement already satisfied: setuptools in c:\\users\\hardik vaibhav\\anaconda3\\lib\\site-packages (from zope.interface->datetime) (63.4.1)\n",
      "Note: you may need to restart the kernel to use updated packages.\n"
     ]
    }
   ],
   "source": [
    "pip install datetime"
   ]
  },
  {
   "cell_type": "code",
   "execution_count": 6,
   "id": "c395239d",
   "metadata": {},
   "outputs": [
    {
     "name": "stdout",
     "output_type": "stream",
     "text": [
      "Requirement already satisfied: timedelta in c:\\users\\hardik vaibhav\\anaconda3\\lib\\site-packages (2020.12.3)\n",
      "Note: you may need to restart the kernel to use updated packages.\n"
     ]
    }
   ],
   "source": [
    "pip install timedelta"
   ]
  },
  {
   "cell_type": "code",
   "execution_count": null,
   "id": "6c0e6ee4",
   "metadata": {},
   "outputs": [],
   "source": [
    "import yfinance as yf \n",
    "#This library is used to pick stock prices from website of Yahoo Finance\n",
    "import pandas as pd\n",
    "from datetime import datetime, timedelta\n",
    "#datatime allows us select a certain time range\n",
    "import numpy as np\n",
    "from scipy.optimize import minimize\n",
    "#NumPy and SciPy will allow us to use certain statistical methods that we need"
   ]
  },
  {
   "cell_type": "markdown",
   "id": "bcdfb85b",
   "metadata": {},
   "source": [
    "# Section 1- Define Tickers and Time Range"
   ]
  },
  {
   "cell_type": "markdown",
   "id": "144ab8c5",
   "metadata": {},
   "source": [
    "## Define the list of tickers"
   ]
  },
  {
   "cell_type": "code",
   "execution_count": null,
   "id": "29f4cb38",
   "metadata": {},
   "outputs": [],
   "source": [
    "tickers = ['HDB','RELIANCE.NS','TCS.NS','SBIN.NS', 'AXB.IL']"
   ]
  },
  {
   "cell_type": "markdown",
   "id": "8088d45e",
   "metadata": {},
   "source": [
    "## Set the end date to today"
   ]
  },
  {
   "cell_type": "code",
   "execution_count": null,
   "id": "509f85ef",
   "metadata": {},
   "outputs": [],
   "source": [
    "end_date = datetime.today()\n",
    "print(end_date)"
   ]
  },
  {
   "cell_type": "markdown",
   "id": "bb4ebcc2",
   "metadata": {},
   "source": [
    "## Set the start date to 5 years ago"
   ]
  },
  {
   "cell_type": "code",
   "execution_count": 22,
   "id": "527fdacc",
   "metadata": {},
   "outputs": [
    {
     "name": "stdout",
     "output_type": "stream",
     "text": [
      "2018-11-30 09:21:31.764510\n"
     ]
    }
   ],
   "source": [
    "start_date = end_date - timedelta(days = 5*365)\n",
    "print(start_date)"
   ]
  },
  {
   "cell_type": "markdown",
   "id": "305044d4",
   "metadata": {},
   "source": [
    "# Section 2 - Download Adjusted Closed Prices"
   ]
  },
  {
   "cell_type": "markdown",
   "id": "a1600c90",
   "metadata": {},
   "source": [
    "## Create an empty DataFrame to store the adjusted close prices"
   ]
  },
  {
   "cell_type": "code",
   "execution_count": 23,
   "id": "705cc3b3",
   "metadata": {},
   "outputs": [],
   "source": [
    "adj_close_df = pd.DataFrame()"
   ]
  },
  {
   "cell_type": "markdown",
   "id": "194f96e1",
   "metadata": {},
   "source": [
    "## Download the close prices for each ticker"
   ]
  },
  {
   "cell_type": "code",
   "execution_count": 24,
   "id": "2e9bf911",
   "metadata": {},
   "outputs": [
    {
     "name": "stdout",
     "output_type": "stream",
     "text": [
      "[*********************100%%**********************]  1 of 1 completed\n",
      "[*********************100%%**********************]  1 of 1 completed\n",
      "[*********************100%%**********************]  1 of 1 completed\n",
      "[*********************100%%**********************]  1 of 1 completed\n",
      "[*********************100%%**********************]  1 of 1 completed\n"
     ]
    }
   ],
   "source": [
    "for ticker in tickers:\n",
    "    data = yf.download(ticker, start = start_date,end = end_date)\n",
    "    adj_close_df[ticker] = data['Adj Close']"
   ]
  },
  {
   "cell_type": "markdown",
   "id": "3603032a",
   "metadata": {},
   "source": [
    "# Display the DataFrame"
   ]
  },
  {
   "cell_type": "code",
   "execution_count": 25,
   "id": "8b89f004",
   "metadata": {},
   "outputs": [
    {
     "name": "stdout",
     "output_type": "stream",
     "text": [
      "                  HDB  RELIANCE.NS       TCS.NS     SBIN.NS     AXB.IL\n",
      "Date                                                                  \n",
      "2018-11-30  49.095390  1134.802368  1765.933472  272.418213  44.180496\n",
      "2018-12-03  48.495129  1124.013916  1778.629272  274.475800  44.130688\n",
      "2018-12-04  48.064297  1119.980225  1804.154907  270.408447  43.931450\n",
      "2018-12-06  49.308380  1092.133911  1787.870483  263.804993  41.739864\n",
      "2018-12-07  48.630669  1101.999268  1790.113770  263.565704  41.590435\n",
      "...               ...          ...          ...         ...        ...\n",
      "2023-11-21  58.849998  2378.899902  3510.199951  561.500000  59.200001\n",
      "2023-11-22  58.639999  2388.199951  3530.149902  558.950012  59.700001\n",
      "2023-11-24  59.500000  2393.899902  3457.100098  560.349976  60.599998\n",
      "2023-11-27  58.889999          NaN          NaN         NaN  60.200001\n",
      "2023-11-28  59.349998  2394.399902  3470.149902  564.450012  61.700001\n",
      "\n",
      "[1256 rows x 5 columns]\n"
     ]
    }
   ],
   "source": [
    "print(adj_close_df)"
   ]
  },
  {
   "cell_type": "markdown",
   "id": "42513038",
   "metadata": {},
   "source": [
    "# Section 3 - Calculate Lognormal Returns"
   ]
  },
  {
   "cell_type": "markdown",
   "id": "030cae0d",
   "metadata": {},
   "source": [
    "## Calculate the lognormal returns for each ticker"
   ]
  },
  {
   "cell_type": "code",
   "execution_count": 26,
   "id": "07e853e1",
   "metadata": {},
   "outputs": [],
   "source": [
    "log_returns = np.log(adj_close_df/adj_close_df.shift(1))"
   ]
  },
  {
   "cell_type": "markdown",
   "id": "1c66cc07",
   "metadata": {},
   "source": [
    "## Drop any missing values"
   ]
  },
  {
   "cell_type": "code",
   "execution_count": 27,
   "id": "b4adbded",
   "metadata": {},
   "outputs": [
    {
     "name": "stdout",
     "output_type": "stream",
     "text": [
      "                 HDB  RELIANCE.NS    TCS.NS   SBIN.NS    AXB.IL\n",
      "Date                                                           \n",
      "2018-12-03 -0.012302    -0.009552  0.007164  0.007525 -0.001128\n",
      "2018-12-04 -0.008924    -0.003595  0.014249 -0.014930 -0.004525\n",
      "2018-12-06  0.025554    -0.025178 -0.009067 -0.024723 -0.051174\n",
      "2018-12-07 -0.013840     0.008993  0.001254 -0.000907 -0.003586\n",
      "2018-12-10 -0.052940    -0.039168 -0.009771 -0.004367 -0.037833\n",
      "...              ...          ...       ...       ...       ...\n",
      "2023-11-17  0.006038    -0.002184  0.001314 -0.037645 -0.026404\n",
      "2023-11-20  0.002234    -0.002636  0.004885  0.001242 -0.011775\n",
      "2023-11-21  0.009904     0.012499 -0.002674 -0.003999  0.001691\n",
      "2023-11-22 -0.003575     0.003902  0.005667 -0.004552  0.008410\n",
      "2023-11-24  0.014559     0.002384 -0.020910  0.002501  0.014963\n",
      "\n",
      "[1088 rows x 5 columns]\n"
     ]
    }
   ],
   "source": [
    "log_returns = log_returns.dropna()\n",
    "print(log_returns)"
   ]
  },
  {
   "cell_type": "markdown",
   "id": "1eac6e18",
   "metadata": {},
   "source": [
    "# Section 4 - Calculate Covariance Matrix"
   ]
  },
  {
   "cell_type": "markdown",
   "id": "b4f66380",
   "metadata": {},
   "source": [
    "## Calculate the covariance matrix using annualized returns"
   ]
  },
  {
   "cell_type": "code",
   "execution_count": 28,
   "id": "e4f8e22d",
   "metadata": {},
   "outputs": [
    {
     "name": "stdout",
     "output_type": "stream",
     "text": [
      "                  HDB  RELIANCE.NS    TCS.NS   SBIN.NS    AXB.IL\n",
      "HDB          0.117736     0.039472  0.019102  0.054027  0.080411\n",
      "RELIANCE.NS  0.039472     0.093286  0.027346  0.041434  0.047385\n",
      "TCS.NS       0.019102     0.027346  0.063284  0.021609  0.025122\n",
      "SBIN.NS      0.054027     0.041434  0.021609  0.118086  0.088282\n",
      "AXB.IL       0.080411     0.047385  0.025122  0.088282  0.182469\n"
     ]
    }
   ],
   "source": [
    "cov_matrix = log_returns.cov()*252\n",
    "print(cov_matrix)"
   ]
  },
  {
   "cell_type": "markdown",
   "id": "a0235d0e",
   "metadata": {},
   "source": [
    "# Section 4 - Define Portfolio Performance Metrices"
   ]
  },
  {
   "cell_type": "code",
   "execution_count": null,
   "id": "4f972aeb",
   "metadata": {},
   "outputs": [],
   "source": []
  },
  {
   "cell_type": "markdown",
   "id": "27f21a8b",
   "metadata": {},
   "source": [
    "## Calculate the portfolio standard deviation"
   ]
  },
  {
   "cell_type": "markdown",
   "id": "18a2d64f",
   "metadata": {},
   "source": [
    "This line of code calculates the portfolio variance, which is a measure of risk associated with a portfolio of assets.  "
   ]
  },
  {
   "cell_type": "code",
   "execution_count": 29,
   "id": "30f5b896",
   "metadata": {},
   "outputs": [],
   "source": [
    "def standard_deviation(weights,cov_matrix):\n",
    "    variance = weights.T @ cov_matrix @ weights\n",
    "    return np.sqrt(variance)    "
   ]
  },
  {
   "cell_type": "markdown",
   "id": "472a3f2d",
   "metadata": {},
   "source": [
    "## Calculate the expected return"
   ]
  },
  {
   "cell_type": "code",
   "execution_count": null,
   "id": "80373a7e",
   "metadata": {},
   "outputs": [],
   "source": []
  },
  {
   "cell_type": "code",
   "execution_count": 30,
   "id": "e3f462ec",
   "metadata": {},
   "outputs": [],
   "source": [
    "def expected_return(weights,log_returns):\n",
    "    return np.sum(log_returns.mean()*weights)*252"
   ]
  },
  {
   "cell_type": "markdown",
   "id": "289f9622",
   "metadata": {},
   "source": [
    "## Calculate the Sharpe Ratio"
   ]
  },
  {
   "cell_type": "code",
   "execution_count": 31,
   "id": "8fcfebba",
   "metadata": {},
   "outputs": [],
   "source": [
    "def sharpe_ratio(weights,log_returns, cov_matrix, risk_free_rate):\n",
    "    return(expected_return(weights,log_returns)- risk_free_rate) / standard_deviation(weights,cov_matrix)"
   ]
  },
  {
   "cell_type": "markdown",
   "id": "1e30fc1a",
   "metadata": {},
   "source": [
    "# Section 5 - Portfolio Optimization"
   ]
  },
  {
   "cell_type": "markdown",
   "id": "4a83f6da",
   "metadata": {},
   "source": [
    "## Set the Risk-free rate"
   ]
  },
  {
   "cell_type": "code",
   "execution_count": 32,
   "id": "46144ab3",
   "metadata": {},
   "outputs": [],
   "source": [
    "risk_free_rate = 0.07 "
   ]
  },
  {
   "cell_type": "markdown",
   "id": "a1d39045",
   "metadata": {},
   "source": [
    "## Define the function to minimize (negative Sharpe Ratio)"
   ]
  },
  {
   "cell_type": "code",
   "execution_count": 34,
   "id": "e660ab4e",
   "metadata": {},
   "outputs": [],
   "source": [
    "def neg_sharpe_ratio(weights,log_returns, cov_matrix, risk_free_rate):\n",
    "    return -sharpe_ratio(weights,log_returns, cov_matrix, risk_free_rate)\n",
    "    "
   ]
  },
  {
   "cell_type": "markdown",
   "id": "64574a51",
   "metadata": {},
   "source": [
    "## Set the Constraints and Bounds "
   ]
  },
  {
   "cell_type": "code",
   "execution_count": 41,
   "id": "8d316a90",
   "metadata": {},
   "outputs": [],
   "source": [
    "constraints = {'type': 'eq', 'fun': lambda weights: np.sum(weights) - 1}\n",
    "bounds = [(0, 0.4) for _ in range(len(tickers))]"
   ]
  },
  {
   "cell_type": "markdown",
   "id": "2478cb40",
   "metadata": {},
   "source": [
    "## Set the Initial Weights "
   ]
  },
  {
   "cell_type": "code",
   "execution_count": 36,
   "id": "5ad0dc23",
   "metadata": {},
   "outputs": [
    {
     "name": "stdout",
     "output_type": "stream",
     "text": [
      "[0.2 0.2 0.2 0.2 0.2]\n"
     ]
    }
   ],
   "source": [
    "initial_weights = np.array([1/len(tickers)]*len(tickers))\n",
    "print (initial_weights) "
   ]
  },
  {
   "cell_type": "markdown",
   "id": "bb503206",
   "metadata": {},
   "source": [
    "##  Optimize the weights to maximize sharpe ratio"
   ]
  },
  {
   "cell_type": "code",
   "execution_count": 38,
   "id": "68070281",
   "metadata": {},
   "outputs": [],
   "source": [
    "optimized_results = minimize(neg_sharpe_ratio,initial_weights, args =(log_returns, cov_matrix, risk_free_rate), method = 'SLSQP', constraints = constraints, bounds = bounds)"
   ]
  },
  {
   "cell_type": "markdown",
   "id": "e6e306d1",
   "metadata": {},
   "source": [
    "## Get the Optimal Weights"
   ]
  },
  {
   "cell_type": "code",
   "execution_count": 39,
   "id": "2f09fbff",
   "metadata": {},
   "outputs": [],
   "source": [
    "optimal_weights = optimized_results.x"
   ]
  },
  {
   "cell_type": "markdown",
   "id": "a23ab74c",
   "metadata": {},
   "source": [
    "## Section 7 - Analyze the optimal Portfolio"
   ]
  },
  {
   "cell_type": "markdown",
   "id": "e13a0ef6",
   "metadata": {},
   "source": [
    "## Display the analytics of the portfolio"
   ]
  },
  {
   "cell_type": "code",
   "execution_count": 42,
   "id": "588f331c",
   "metadata": {},
   "outputs": [
    {
     "name": "stdout",
     "output_type": "stream",
     "text": [
      "Optimal Weights\n",
      "HDB: 0.0000\n",
      "RELIANCE.NS: 0.2000\n",
      "TCS.NS: 0.4000\n",
      "SBIN.NS: 0.4000\n",
      "AXB.IL: 0.0000\n",
      "Expected Annual Return: 0.1571\n",
      "Expected Volatility: 0.2251\n",
      "Sharpe Ratio: 0.3868\n"
     ]
    }
   ],
   "source": [
    "print('Optimal Weights')\n",
    "for ticker, weight in zip(tickers,optimal_weights):\n",
    "    print(f\"{ticker}: {weight:.4f}\")\n",
    "\n",
    "optimal_portfolio_return = expected_return(optimal_weights, log_returns)\n",
    "optimal_portfolio_volatility = standard_deviation(optimal_weights, cov_matrix)\n",
    "optimal_sharpe_ratio = sharpe_ratio(optimal_weights, log_returns, cov_matrix, risk_free_rate)\n",
    "\n",
    "print(f\"Expected Annual Return: {optimal_portfolio_return:.4f}\")\n",
    "print(f\"Expected Volatility: {optimal_portfolio_volatility:.4f}\")\n",
    "print(f\"Sharpe Ratio: {optimal_sharpe_ratio:.4f}\")"
   ]
  },
  {
   "cell_type": "markdown",
   "id": "545f848f",
   "metadata": {},
   "source": [
    "## Display the final portfolio as a plot"
   ]
  },
  {
   "cell_type": "code",
   "execution_count": 43,
   "id": "d415418a",
   "metadata": {},
   "outputs": [
    {
     "data": {
      "image/png": "[encoded data removed]",
      "text/plain": [
       "<Figure size 1000x600 with 1 Axes>"
      ]
     },
     "metadata": {},
     "output_type": "display_data"
    }
   ],
   "source": [
    "import matplotlib.pyplot as plt\n",
    "\n",
    "plt.figure(figsize=(10, 6))\n",
    "plt.bar(tickers, optimal_weights)\n",
    "\n",
    "plt.xlabel('Assets')\n",
    "plt.ylabel('Optimal Weights')\n",
    "plt.title('Optimal Portfolio Weights')\n",
    "\n",
    "plt.show()"
   ]
  },
  {
   "cell_type": "markdown",
   "id": "c55619fd",
   "metadata": {},
   "source": [
    "## Happy Coding"
   ]
  },
  {
   "cell_type": "code",
   "execution_count": null,
   "id": "b74782cb",
   "metadata": {},
   "outputs": [],
   "source": []
  }
 ],
 "metadata": {
  "kernelspec": {
   "display_name": "Python 3 (ipykernel)",
   "language": "python",
   "name": "python3"
  },
  "language_info": {
   "codemirror_mode": {
    "name": "ipython",
    "version": 3
   },
   "file_extension": ".py",
   "mimetype": "text/x-python",
   "name": "python",
   "nbconvert_exporter": "python",
   "pygments_lexer": "ipython3",
   "version": "3.9.13"
  }
 },
 "nbformat": 4,
 "nbformat_minor": 5
}
